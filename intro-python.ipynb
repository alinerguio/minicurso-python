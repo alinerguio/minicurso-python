{
 "cells": [
  {
   "cell_type": "markdown",
   "id": "meaning-journalist",
   "metadata": {},
   "source": [
    "# Número par ou ímpar"
   ]
  },
  {
   "cell_type": "markdown",
   "id": "beneficial-following",
   "metadata": {},
   "source": [
    "Conceitos de condicional, função, tipo de variável, conversão de valor e input."
   ]
  },
  {
   "cell_type": "code",
   "execution_count": 6,
   "id": "russian-patent",
   "metadata": {},
   "outputs": [],
   "source": [
    "def parOuImpar(numero):\n",
    "    # numero % 2 == resto de numero / 2\n",
    "    if numero % 2 == 0:\n",
    "        return 'par'\n",
    "    elif numero % 2 != 0:\n",
    "        return 'ímpar'\n",
    "    else: \n",
    "        return 'não sei'"
   ]
  },
  {
   "cell_type": "code",
   "execution_count": 7,
   "id": "upset-bumper",
   "metadata": {},
   "outputs": [
    {
     "name": "stdout",
     "output_type": "stream",
     "text": [
      "3\n"
     ]
    }
   ],
   "source": [
    "numero = input()"
   ]
  },
  {
   "cell_type": "code",
   "execution_count": 8,
   "id": "wooden-carolina",
   "metadata": {},
   "outputs": [
    {
     "name": "stdout",
     "output_type": "stream",
     "text": [
      "3\n"
     ]
    }
   ],
   "source": [
    "print(numero)"
   ]
  },
  {
   "cell_type": "code",
   "execution_count": 9,
   "id": "passing-mathematics",
   "metadata": {},
   "outputs": [
    {
     "data": {
      "text/plain": [
       "str"
      ]
     },
     "execution_count": 9,
     "metadata": {},
     "output_type": "execute_result"
    }
   ],
   "source": [
    "type(numero)"
   ]
  },
  {
   "cell_type": "code",
   "execution_count": 10,
   "id": "supreme-vocabulary",
   "metadata": {},
   "outputs": [
    {
     "data": {
      "text/plain": [
       "int"
      ]
     },
     "execution_count": 10,
     "metadata": {},
     "output_type": "execute_result"
    }
   ],
   "source": [
    "numero_int = int(numero)\n",
    "type(numero_int)"
   ]
  },
  {
   "cell_type": "code",
   "execution_count": 11,
   "id": "encouraging-circus",
   "metadata": {},
   "outputs": [
    {
     "data": {
      "text/plain": [
       "float"
      ]
     },
     "execution_count": 11,
     "metadata": {},
     "output_type": "execute_result"
    }
   ],
   "source": [
    "numero_float = float(numero)\n",
    "type(numero_float)"
   ]
  },
  {
   "cell_type": "code",
   "execution_count": 12,
   "id": "imported-textbook",
   "metadata": {},
   "outputs": [],
   "source": [
    "resultado = parOuImpar(numero_int)"
   ]
  },
  {
   "cell_type": "code",
   "execution_count": 13,
   "id": "computational-treasury",
   "metadata": {},
   "outputs": [
    {
     "data": {
      "text/plain": [
       "'ímpar'"
      ]
     },
     "execution_count": 13,
     "metadata": {},
     "output_type": "execute_result"
    }
   ],
   "source": [
    "resultado"
   ]
  },
  {
   "cell_type": "markdown",
   "id": "naval-render",
   "metadata": {},
   "source": [
    "# Estruturas de Dados"
   ]
  },
  {
   "cell_type": "markdown",
   "id": "potential-relief",
   "metadata": {},
   "source": [
    "Conceito de dicionário, lista, e iteração. \n",
    "\n",
    "Fibonacci: \n",
    "n = (n - 1) + (n - 2)"
   ]
  },
  {
   "cell_type": "code",
   "execution_count": 26,
   "id": "departmental-kenya",
   "metadata": {},
   "outputs": [],
   "source": [
    "fibonacci = [0, 1] # ou lista = list()\n",
    "tamanho = 10"
   ]
  },
  {
   "cell_type": "code",
   "execution_count": 27,
   "id": "possible-central",
   "metadata": {},
   "outputs": [],
   "source": [
    "for i in range(2, tamanho+1):\n",
    "    fibonacci.append((fibonacci[i - 1] + fibonacci[i - 2])) "
   ]
  },
  {
   "cell_type": "code",
   "execution_count": 28,
   "id": "hairy-curve",
   "metadata": {},
   "outputs": [
    {
     "name": "stdout",
     "output_type": "stream",
     "text": [
      "[0, 1, 1, 2, 3, 5, 8, 13, 21, 34, 55]\n",
      "[0, 1, 1, 2, 3, 5, 8, 13, 21, 55]\n",
      "[0, 1, 1, 2, 3, 5, 8, 13, 55]\n"
     ]
    }
   ],
   "source": [
    "print(fibonacci)\n",
    "fibonacci.pop(9) # remove por posição, se não tiver parâmetro é o último\n",
    "print(fibonacci)\n",
    "fibonacci.remove(21) # remove por valor\n",
    "print(fibonacci)"
   ]
  },
  {
   "cell_type": "code",
   "execution_count": 29,
   "id": "living-azerbaijan",
   "metadata": {},
   "outputs": [
    {
     "name": "stdout",
     "output_type": "stream",
     "text": [
      "tamanho da lista 9\n"
     ]
    }
   ],
   "source": [
    "print('tamanho da lista ' + str(len(fibonacci)))"
   ]
  },
  {
   "cell_type": "code",
   "execution_count": 30,
   "id": "violent-transsexual",
   "metadata": {},
   "outputs": [],
   "source": [
    "dicionario = {'DCC': 'ciencia da computação', 'DEX': 'estatística', 'DEG': 'engenharia de controle e automação', \\\n",
    "              'DFI': 'física', 'DEL': 'letras'}"
   ]
  },
  {
   "cell_type": "code",
   "execution_count": 31,
   "id": "mediterranean-treaty",
   "metadata": {},
   "outputs": [
    {
     "name": "stdout",
     "output_type": "stream",
     "text": [
      "Departamento: DCC\n",
      "Curso: ciencia da computação\n",
      "Departamento: DEX\n",
      "Curso: estatística\n",
      "Departamento: DEG\n",
      "Curso: engenharia de controle e automação\n",
      "Departamento: DFI\n",
      "Curso: física\n",
      "Departamento: DEL\n",
      "Curso: letras\n"
     ]
    }
   ],
   "source": [
    "for key in dicionario:\n",
    "    print('Departamento: ' + key)\n",
    "    print('Curso: ' + dicionario[key])"
   ]
  },
  {
   "cell_type": "code",
   "execution_count": 32,
   "id": "romantic-relief",
   "metadata": {},
   "outputs": [
    {
     "name": "stdout",
     "output_type": "stream",
     "text": [
      "ciencia da computação\n",
      "0\n"
     ]
    }
   ],
   "source": [
    "print(dicionario['DCC'])\n",
    "print(fibonacci[0])"
   ]
  },
  {
   "cell_type": "code",
   "execution_count": 33,
   "id": "featured-exchange",
   "metadata": {},
   "outputs": [
    {
     "name": "stdout",
     "output_type": "stream",
     "text": [
      "engenharia de controle e automação\n"
     ]
    }
   ],
   "source": [
    "print(dicionario['DEG'])"
   ]
  },
  {
   "cell_type": "code",
   "execution_count": 34,
   "id": "detailed-personality",
   "metadata": {},
   "outputs": [],
   "source": [
    "dicionario['DEG'] = 'engenharia ambiental' "
   ]
  },
  {
   "cell_type": "code",
   "execution_count": 35,
   "id": "rural-colleague",
   "metadata": {},
   "outputs": [
    {
     "name": "stdout",
     "output_type": "stream",
     "text": [
      "engenharia ambiental\n"
     ]
    }
   ],
   "source": [
    "print(dicionario['DEG'])"
   ]
  },
  {
   "cell_type": "markdown",
   "id": "sufficient-tower",
   "metadata": {},
   "source": [
    "# Utilizando função lambda"
   ]
  },
  {
   "cell_type": "markdown",
   "id": "preliminary-sender",
   "metadata": {},
   "source": [
    "Conceito de Lambda"
   ]
  },
  {
   "cell_type": "code",
   "execution_count": 36,
   "id": "suburban-updating",
   "metadata": {},
   "outputs": [],
   "source": [
    "funcao_lambda = lambda x: x ** 2"
   ]
  },
  {
   "cell_type": "code",
   "execution_count": 37,
   "id": "elegant-composer",
   "metadata": {},
   "outputs": [
    {
     "data": {
      "text/plain": [
       "16"
      ]
     },
     "execution_count": 37,
     "metadata": {},
     "output_type": "execute_result"
    }
   ],
   "source": [
    "funcao_lambda(4)"
   ]
  },
  {
   "cell_type": "code",
   "execution_count": 38,
   "id": "tough-child",
   "metadata": {},
   "outputs": [],
   "source": [
    "lista_segunda_potencia = [funcao_lambda(x) for x in range(10)]"
   ]
  },
  {
   "cell_type": "code",
   "execution_count": 39,
   "id": "variable-packing",
   "metadata": {},
   "outputs": [
    {
     "data": {
      "text/plain": [
       "[0, 1, 4, 9, 16, 25, 36, 49, 64, 81]"
      ]
     },
     "execution_count": 39,
     "metadata": {},
     "output_type": "execute_result"
    }
   ],
   "source": [
    "lista_segunda_potencia"
   ]
  }
 ],
 "metadata": {
  "kernelspec": {
   "display_name": "Python 3",
   "language": "python",
   "name": "python3"
  },
  "language_info": {
   "codemirror_mode": {
    "name": "ipython",
    "version": 3
   },
   "file_extension": ".py",
   "mimetype": "text/x-python",
   "name": "python",
   "nbconvert_exporter": "python",
   "pygments_lexer": "ipython3",
   "version": "3.8.2"
  }
 },
 "nbformat": 4,
 "nbformat_minor": 5
}
